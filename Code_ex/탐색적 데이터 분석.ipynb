{
 "cells": [
  {
   "cell_type": "code",
   "execution_count": 1,
   "id": "initial_id",
   "metadata": {
    "collapsed": true,
    "ExecuteTime": {
     "end_time": "2024-04-12T12:59:54.991899Z",
     "start_time": "2024-04-12T12:59:54.990363Z"
    }
   },
   "outputs": [],
   "source": [
    "import os \n",
    "import pandas as pd\n",
    "import numpy as np\n",
    "import matplotlib.pyplot as plt\n",
    "import seaborn as sns"
   ]
  },
  {
   "cell_type": "code",
   "outputs": [],
   "source": [
    "os.chdir('/Users/bestw/Library/CloudStorage/OneDrive-개인/Fastcampus/python_level_up/git_project_ex/pyhon_level_up')"
   ],
   "metadata": {
    "collapsed": false,
    "ExecuteTime": {
     "end_time": "2024-04-12T13:02:17.256708Z",
     "start_time": "2024-04-12T13:02:17.253883Z"
    }
   },
   "id": "90c42f7ab92fceeb",
   "execution_count": 2
  },
  {
   "cell_type": "code",
   "outputs": [],
   "source": [
    "df = pd.read_csv('/Users/bestw/Library/CloudStorage/OneDrive-개인/Fastcampus/python_level_up/git_project_ex/pyhon_level_up/2. 탐색적 데이터 분석/데이터/페이지내_사용자_이동.csv', engine='python', encoding='cp949')"
   ],
   "metadata": {
    "collapsed": false,
    "ExecuteTime": {
     "end_time": "2024-04-12T13:04:39.474782Z",
     "start_time": "2024-04-12T13:04:39.428862Z"
    }
   },
   "id": "dbd4c50b939cffad",
   "execution_count": 6
  },
  {
   "cell_type": "code",
   "outputs": [
    {
     "data": {
      "text/plain": "   고객ID 방문 페이지  순서\n0     0   페이지C   1\n1     0   페이지E   2\n2     0   페이지B   3\n3     0   페이지F   4\n4     0   페이지C   5",
      "text/html": "<div>\n<style scoped>\n    .dataframe tbody tr th:only-of-type {\n        vertical-align: middle;\n    }\n\n    .dataframe tbody tr th {\n        vertical-align: top;\n    }\n\n    .dataframe thead th {\n        text-align: right;\n    }\n</style>\n<table border=\"1\" class=\"dataframe\">\n  <thead>\n    <tr style=\"text-align: right;\">\n      <th></th>\n      <th>고객ID</th>\n      <th>방문 페이지</th>\n      <th>순서</th>\n    </tr>\n  </thead>\n  <tbody>\n    <tr>\n      <th>0</th>\n      <td>0</td>\n      <td>페이지C</td>\n      <td>1</td>\n    </tr>\n    <tr>\n      <th>1</th>\n      <td>0</td>\n      <td>페이지E</td>\n      <td>2</td>\n    </tr>\n    <tr>\n      <th>2</th>\n      <td>0</td>\n      <td>페이지B</td>\n      <td>3</td>\n    </tr>\n    <tr>\n      <th>3</th>\n      <td>0</td>\n      <td>페이지F</td>\n      <td>4</td>\n    </tr>\n    <tr>\n      <th>4</th>\n      <td>0</td>\n      <td>페이지C</td>\n      <td>5</td>\n    </tr>\n  </tbody>\n</table>\n</div>"
     },
     "execution_count": 7,
     "metadata": {},
     "output_type": "execute_result"
    }
   ],
   "source": [
    "df.head()"
   ],
   "metadata": {
    "collapsed": false,
    "ExecuteTime": {
     "end_time": "2024-04-12T13:04:50.105801Z",
     "start_time": "2024-04-12T13:04:50.096558Z"
    }
   },
   "id": "bfc90de7637b86ba",
   "execution_count": 7
  },
  {
   "cell_type": "code",
   "outputs": [],
   "source": [
    "df.sort_values(by=[''])"
   ],
   "metadata": {
    "collapsed": false
   },
   "id": "cb25fe73fc1c3c5e"
  }
 ],
 "metadata": {
  "kernelspec": {
   "display_name": "Python 3",
   "language": "python",
   "name": "python3"
  },
  "language_info": {
   "codemirror_mode": {
    "name": "ipython",
    "version": 2
   },
   "file_extension": ".py",
   "mimetype": "text/x-python",
   "name": "python",
   "nbconvert_exporter": "python",
   "pygments_lexer": "ipython2",
   "version": "2.7.6"
  }
 },
 "nbformat": 4,
 "nbformat_minor": 5
}
